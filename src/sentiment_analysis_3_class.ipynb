{
 "cells": [
  {
   "cell_type": "code",
   "execution_count": 93,
   "id": "c02bfa53",
   "metadata": {},
   "outputs": [],
   "source": [
    "import pandas as pd"
   ]
  },
  {
   "cell_type": "code",
   "execution_count": 94,
   "id": "797c6171",
   "metadata": {},
   "outputs": [],
   "source": [
    "df = pb.read_csv(\"Tweets2.csv\")\n",
    "# df.head()"
   ]
  },
  {
   "cell_type": "code",
   "execution_count": 95,
   "id": "56827e69",
   "metadata": {},
   "outputs": [
    {
     "data": {
      "text/plain": [
       "negative    3507\n",
       "neutral     3099\n",
       "positive    2363\n",
       "Name: airline_sentiment, dtype: int64"
      ]
     },
     "execution_count": 95,
     "metadata": {},
     "output_type": "execute_result"
    }
   ],
   "source": [
    "review_df = df[['text','airline_sentiment']]\n",
    "\n",
    "# review_df = review_df[review_df['airline_sentiment'] != 'neutral']\n",
    "\n",
    "review_df[\"airline_sentiment\"].value_counts()\n",
    "\n",
    "# df = review_df['airline_sentiment']"
   ]
  },
  {
   "cell_type": "code",
   "execution_count": 96,
   "id": "d6190166",
   "metadata": {},
   "outputs": [],
   "source": [
    "sentiment_label = review_df.airline_sentiment.factorize()"
   ]
  },
  {
   "cell_type": "code",
   "execution_count": 97,
   "id": "bfc7b453",
   "metadata": {},
   "outputs": [],
   "source": [
    "tweet = review_df.text.values"
   ]
  },
  {
   "cell_type": "code",
   "execution_count": 98,
   "id": "9b6fa38b",
   "metadata": {},
   "outputs": [],
   "source": [
    "from tensorflow.keras.preprocessing.text import Tokenizer\n",
    "tokenizer = Tokenizer(num_words=5000)\n",
    "tokenizer.fit_on_texts(tweet)"
   ]
  },
  {
   "cell_type": "code",
   "execution_count": 99,
   "id": "7967939b",
   "metadata": {},
   "outputs": [],
   "source": [
    "encoded_docs = tokenizer.texts_to_sequences(tweet)"
   ]
  },
  {
   "cell_type": "code",
   "execution_count": 100,
   "id": "204cbe01",
   "metadata": {},
   "outputs": [],
   "source": [
    "from tensorflow.keras.preprocessing.sequence import pad_sequences\n",
    "padded_sequence = pad_sequences(encoded_docs, maxlen=200)"
   ]
  },
  {
   "cell_type": "code",
   "execution_count": 101,
   "id": "1b0cb761",
   "metadata": {},
   "outputs": [
    {
     "name": "stdout",
     "output_type": "stream",
     "text": [
      "Model: \"sequential_5\"\n",
      "_________________________________________________________________\n",
      " Layer (type)                Output Shape              Param #   \n",
      "=================================================================\n",
      " embedding_5 (Embedding)     (None, 200, 32)           423488    \n",
      "                                                                 \n",
      " spatial_dropout1d_5 (Spatia  (None, 200, 32)          0         \n",
      " lDropout1D)                                                     \n",
      "                                                                 \n",
      " lstm_5 (LSTM)               (None, 100)               53200     \n",
      "                                                                 \n",
      " dropout_5 (Dropout)         (None, 100)               0         \n",
      "                                                                 \n",
      " dense_5 (Dense)             (None, 1)                 101       \n",
      "                                                                 \n",
      "=================================================================\n",
      "Total params: 476,789\n",
      "Trainable params: 476,789\n",
      "Non-trainable params: 0\n",
      "_________________________________________________________________\n",
      "None\n"
     ]
    }
   ],
   "source": [
    "from tensorflow.keras.models import Sequential\n",
    "from tensorflow.keras.layers import LSTM,Dense, Dropout, SpatialDropout1D\n",
    "from tensorflow.keras.layers import Embedding\n",
    "embedding_vector_length = 32\n",
    "\n",
    "model = Sequential()\n",
    "model.add(Embedding(vocab_size, embedding_vector_length, input_length=200))\n",
    "model.add(SpatialDropout1D(0.25))\n",
    "model.add(LSTM(100, dropout=0.5, recurrent_dropout=0.5))\n",
    "model.add(Dropout(0.2))\n",
    "model.add(Dense(1, activation='sigmoid'))\n",
    "model.compile(loss='binary_crossentropy',optimizer='adam', metrics=['accuracy'])\n",
    "print(model.summary())"
   ]
  },
  {
   "cell_type": "code",
   "execution_count": 102,
   "id": "26e4a258",
   "metadata": {},
   "outputs": [
    {
     "name": "stdout",
     "output_type": "stream",
     "text": [
      "Epoch 1/20\n",
      "225/225 [==============================] - 22s 93ms/step - loss: 0.3525 - accuracy: 0.3047 - val_loss: -1.3154 - val_accuracy: 0.1020\n",
      "Epoch 2/20\n",
      "225/225 [==============================] - 26s 114ms/step - loss: -0.8349 - accuracy: 0.3547 - val_loss: -12.9642 - val_accuracy: 0.1416\n",
      "Epoch 3/20\n",
      "225/225 [==============================] - 25s 113ms/step - loss: -2.9808 - accuracy: 0.4105 - val_loss: -22.7463 - val_accuracy: 0.1276\n",
      "Epoch 4/20\n",
      "225/225 [==============================] - 25s 113ms/step - loss: -10.9046 - accuracy: 0.4831 - val_loss: -40.9847 - val_accuracy: 0.1187\n",
      "Epoch 5/20\n",
      "225/225 [==============================] - 25s 113ms/step - loss: -16.9591 - accuracy: 0.4931 - val_loss: -55.3326 - val_accuracy: 0.1321\n",
      "Epoch 6/20\n",
      "225/225 [==============================] - 27s 121ms/step - loss: -23.4319 - accuracy: 0.5063 - val_loss: -69.7056 - val_accuracy: 0.1427\n",
      "Epoch 7/20\n",
      "225/225 [==============================] - 31s 136ms/step - loss: -29.9220 - accuracy: 0.5098 - val_loss: -85.2705 - val_accuracy: 0.1254\n",
      "Epoch 8/20\n",
      "225/225 [==============================] - 39s 172ms/step - loss: -36.1847 - accuracy: 0.5179 - val_loss: -96.8855 - val_accuracy: 0.1444\n",
      "Epoch 9/20\n",
      "225/225 [==============================] - 30s 133ms/step - loss: -41.4689 - accuracy: 0.5168 - val_loss: -108.6295 - val_accuracy: 0.1416\n",
      "Epoch 10/20\n",
      "225/225 [==============================] - 32s 142ms/step - loss: -46.4992 - accuracy: 0.5171 - val_loss: -122.3514 - val_accuracy: 0.1399\n",
      "Epoch 11/20\n",
      "225/225 [==============================] - 31s 139ms/step - loss: -51.8767 - accuracy: 0.5101 - val_loss: -137.9835 - val_accuracy: 0.1349\n",
      "Epoch 12/20\n",
      "225/225 [==============================] - 32s 143ms/step - loss: -58.6421 - accuracy: 0.5157 - val_loss: -149.3135 - val_accuracy: 0.1382\n",
      "Epoch 13/20\n",
      "225/225 [==============================] - 33s 147ms/step - loss: -65.3693 - accuracy: 0.5167 - val_loss: -160.1399 - val_accuracy: 0.1472\n",
      "Epoch 14/20\n",
      "225/225 [==============================] - 29s 128ms/step - loss: -70.5280 - accuracy: 0.5086 - val_loss: -175.6819 - val_accuracy: 0.1472\n",
      "Epoch 15/20\n",
      "225/225 [==============================] - 27s 121ms/step - loss: -76.9238 - accuracy: 0.5167 - val_loss: -190.9938 - val_accuracy: 0.1416\n",
      "Epoch 16/20\n",
      "225/225 [==============================] - 32s 142ms/step - loss: -81.7839 - accuracy: 0.5062 - val_loss: -201.9178 - val_accuracy: 0.1477\n",
      "Epoch 17/20\n",
      "225/225 [==============================] - 28s 124ms/step - loss: -88.1846 - accuracy: 0.5068 - val_loss: -216.1715 - val_accuracy: 0.1477\n",
      "Epoch 18/20\n",
      "225/225 [==============================] - 28s 124ms/step - loss: -89.7943 - accuracy: 0.5137 - val_loss: -217.1699 - val_accuracy: 0.1483\n",
      "Epoch 19/20\n",
      "225/225 [==============================] - 30s 134ms/step - loss: -92.5857 - accuracy: 0.5036 - val_loss: -237.4007 - val_accuracy: 0.1444\n",
      "Epoch 20/20\n",
      "225/225 [==============================] - 29s 127ms/step - loss: -101.5922 - accuracy: 0.5190 - val_loss: -254.8779 - val_accuracy: 0.1405\n"
     ]
    }
   ],
   "source": [
    "history = model.fit(padded_sequence,sentiment_label[0],validation_split=0.2, epochs=20, batch_size=32)"
   ]
  },
  {
   "cell_type": "code",
   "execution_count": 103,
   "id": "51009358",
   "metadata": {},
   "outputs": [
    {
     "name": "stdout",
     "output_type": "stream",
     "text": [
      "Predicted label:  positive\n",
      "Predicted label:  positive\n"
     ]
    }
   ],
   "source": [
    "def predict_sentiment(text):\n",
    "    tw = tokenizer.texts_to_sequences([text])\n",
    "    tw = pad_sequences(tw,maxlen=200)\n",
    "    prediction = int(model.predict(tw).round().item())\n",
    "    print(\"Predicted label: \", sentiment_label[1][prediction])\n",
    "test_sentence1 = \"I enjoyed my journey on this flight.\"\n",
    "predict_sentiment(test_sentence1)\n",
    "test_sentence2 = \"This is the worst flight experience of my life!\"\n",
    "predict_sentiment(test_sentence2)"
   ]
  },
  {
   "cell_type": "code",
   "execution_count": 106,
   "id": "df0866af",
   "metadata": {},
   "outputs": [
    {
     "name": "stdout",
     "output_type": "stream",
     "text": [
      "Predicted label:  positive\n"
     ]
    }
   ],
   "source": [
    "predict_sentiment(\"He is a bad boy\")"
   ]
  },
  {
   "cell_type": "code",
   "execution_count": null,
   "id": "72ee22b6",
   "metadata": {},
   "outputs": [],
   "source": []
  }
 ],
 "metadata": {
  "kernelspec": {
   "display_name": "Python 3 (ipykernel)",
   "language": "python",
   "name": "python3"
  },
  "language_info": {
   "codemirror_mode": {
    "name": "ipython",
    "version": 3
   },
   "file_extension": ".py",
   "mimetype": "text/x-python",
   "name": "python",
   "nbconvert_exporter": "python",
   "pygments_lexer": "ipython3",
   "version": "3.8.13"
  }
 },
 "nbformat": 4,
 "nbformat_minor": 5
}
